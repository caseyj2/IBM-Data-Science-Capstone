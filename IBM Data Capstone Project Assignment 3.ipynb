{
 "cells": [
  {
   "cell_type": "markdown",
   "metadata": {},
   "source": [
    "# Alcohol and Crime in the Australian Capital Territory"
   ]
  },
  {
   "cell_type": "markdown",
   "metadata": {},
   "source": [
    "## Part 1 – Background and Problem"
   ]
  },
  {
   "cell_type": "markdown",
   "metadata": {},
   "source": [
    "### Discussion of Background"
   ]
  },
  {
   "cell_type": "markdown",
   "metadata": {},
   "source": [
    "Over the last several years in Australia, there has been strong concerns about alcohol and violent crime. The Australian state of New South Wales introduced laws restricting trading hours for businesses supplying alcohol to the public, such as bottle shops and bars. Since the introduction of the laws, there have been a strong debate whether there is an association between the supply of alcohol and violent crime."
   ]
  },
  {
   "cell_type": "markdown",
   "metadata": {},
   "source": [
    "### Description of Problem"
   ]
  },
  {
   "cell_type": "markdown",
   "metadata": {},
   "source": [
    "Currently, there has been no research (that the author is aware of) examining alcohol and violent crime in the Australian Capital Territory. To address this gap, the present study aims to examine whether neighbourhoods with more venues that supply alcohol have higher levels of violent crime than neighbourhoods with fewer of these venues. This research could support informing policing decisions to prevent and address violent crime."
   ]
  },
  {
   "cell_type": "markdown",
   "metadata": {},
   "source": [
    "## Part 2 – Dataset and Solution"
   ]
  },
  {
   "cell_type": "markdown",
   "metadata": {},
   "source": [
    "The study will use crime data from the Australian Federal Police  and venue data from Foursquare. K-means cluster analysis will be used on both datasets to determine whether violent crime and alcohol venues have similar geographic clustering. A regression model will also be developed to test the association."
   ]
  }
 ],
 "metadata": {
  "kernelspec": {
   "display_name": "Python 3",
   "language": "python",
   "name": "python3"
  },
  "language_info": {
   "codemirror_mode": {
    "name": "ipython",
    "version": 3
   },
   "file_extension": ".py",
   "mimetype": "text/x-python",
   "name": "python",
   "nbconvert_exporter": "python",
   "pygments_lexer": "ipython3",
   "version": "3.7.5"
  }
 },
 "nbformat": 4,
 "nbformat_minor": 2
}
