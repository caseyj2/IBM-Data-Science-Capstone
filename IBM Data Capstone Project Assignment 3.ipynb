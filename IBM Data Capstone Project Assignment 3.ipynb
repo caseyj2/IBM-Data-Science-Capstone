{
 "cells": [
  {
   "cell_type": "markdown",
   "metadata": {},
   "source": [
    "# Alcohol and Crime in Neighbourhoods in the Australian Capital Territory"
   ]
  },
  {
   "cell_type": "markdown",
   "metadata": {},
   "source": [
    "## Part 1 – Background and Problem"
   ]
  },
  {
   "cell_type": "markdown",
   "metadata": {},
   "source": [
    "### Discussion of Background"
   ]
  },
  {
   "cell_type": "markdown",
   "metadata": {},
   "source": [
    "Over the last several years in Australia, there has been strong concerns about alcohol and violent crime. The Australian state of New South Wales introduced laws restricting trading hours for businesses supplying alcohol to the public, such as bottle shops and bars. Since the introduction of the laws, there has been a strong debate whether there is an association between the supply of alcohol and violent crime. For example, many businesses have complained there is not and want the laws repealed. The Australian Capital Territory currently does not have New South Wales-style alcohol control laws. The study aims to inform decision-making policy and policing decision-making in the Australian Capital Territory to ensure policy and policing decisions have a data-driven basis. The target audience is the Australian Capital Territory Government."
   ]
  },
  {
   "cell_type": "markdown",
   "metadata": {},
   "source": [
    "### Description of Problem"
   ]
  },
  {
   "cell_type": "markdown",
   "metadata": {},
   "source": [
    "Currently, there has been no research (that the author is aware of) examining alcohol and violent crime in the Australian Capital Territory. To address this gap, the present study aims to examine whether neighbourhoods with more venues that supply alcohol have higher levels of violent crime than neighbourhoods with fewer of these venues. This research could support informing policing decisions to prevent and address violent crime. The problem is important to solve to ensure there is objectively informed decisions for alcohol and crime control."
   ]
  },
  {
   "cell_type": "markdown",
   "metadata": {},
   "source": [
    "## Part 2 – Dataset and Solution"
   ]
  },
  {
   "cell_type": "markdown",
   "metadata": {},
   "source": [
    "### Overview of Dataset and Solution\n",
    "The study will use crime data from the Australian Federal Police  and venue data from Foursquare. K-means cluster analysis will be used on both datasets to determine whether violent crime and alcohol venues have similar geographic clustering. A regression model will also be developed to test the association.\n",
    "\n",
    "### Description of Crime Data\n",
    "The Australian Federal Police publish crime data for the Australian Capital Territory at https://www.data.act.gov.au/Justice-Safety-and-Emergency/ACT-Crime-Statistics/2egm-dieb, including feature such as:\n",
    "* counts of types of crime (such as assault, homicide and sexual assault)\n",
    "* a breakdown of each quarter (such as Q2 Apr-June 2019)\n",
    "* a breakdown by neighbourhood (Amaroo, Lyneham etc.).\n",
    "\n",
    "The Python3 geopy.geocoders package will also be used to add longitude and latitude values to the above dataset. Only violent crime will be examined.\n",
    "\n",
    "### Description of Foursquare Data\n",
    "Foursquare contains venue data for the Australia Capital Territory. The study will use this data to extract the details of venues that supply alcohol (bars, bottleshops and the Casino). Examples of the features used will be:\n",
    "* venue name\n",
    "* longitude\n",
    "* latitude."
   ]
  },
  {
   "cell_type": "code",
   "execution_count": null,
   "metadata": {},
   "outputs": [],
   "source": []
  }
 ],
 "metadata": {
  "kernelspec": {
   "display_name": "Python 3",
   "language": "python",
   "name": "python3"
  },
  "language_info": {
   "codemirror_mode": {
    "name": "ipython",
    "version": 3
   },
   "file_extension": ".py",
   "mimetype": "text/x-python",
   "name": "python",
   "nbconvert_exporter": "python",
   "pygments_lexer": "ipython3",
   "version": "3.7.5"
  }
 },
 "nbformat": 4,
 "nbformat_minor": 2
}
